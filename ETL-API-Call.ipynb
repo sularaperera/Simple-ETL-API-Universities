{
 "cells": [
  {
   "cell_type": "markdown",
   "id": "a1ea6b07-0343-47db-a9eb-ea8b2bd2d238",
   "metadata": {},
   "source": [
    "## import packages"
   ]
  },
  {
   "cell_type": "code",
   "execution_count": 122,
   "id": "bd0eba6a-fd0b-490e-a32c-78da1b95a57b",
   "metadata": {},
   "outputs": [],
   "source": [
    "## importing packages\n",
    "\n",
    "import requests\n",
    "import pandas as pd\n",
    "from sqlalchemy import create_engine"
   ]
  },
  {
   "cell_type": "markdown",
   "id": "ddc13dec-c8d4-46a2-8184-06cb1cb1ece4",
   "metadata": {},
   "source": [
    "## extract data"
   ]
  },
  {
   "cell_type": "code",
   "execution_count": 123,
   "id": "7e26d802-2cd9-42ed-bafb-2581873b8182",
   "metadata": {},
   "outputs": [],
   "source": [
    "def extract(country=\"United States\")-> dict: # here I have set default parameter value to \"United States\"\n",
    "    # API Call\n",
    "    api_url = f\"http://universities.hipolabs.com/search?country={country}\"\n",
    "    data = requests.get(api_url).json()\n",
    "    print(f\"Total number of universities in {country}: {len(data)}\")\n",
    "    return data"
   ]
  },
  {
   "cell_type": "markdown",
   "id": "3088ffab-be02-4dfc-9a2a-739a681b7ddf",
   "metadata": {},
   "source": [
    "## transform data"
   ]
  },
  {
   "cell_type": "code",
   "execution_count": 124,
   "id": "c35d45d6-17be-4348-861a-a63c4f59b2c3",
   "metadata": {},
   "outputs": [],
   "source": [
    "def transform(data, city=\"California\")-> pd.DataFrame: # default to \"California\"\n",
    "    df = pd.DataFrame(data)\n",
    "\n",
    "    # Filtering entire dataframe with name having city value\n",
    "    df = df[df[\"name\"].str.contains(f\"{city}\")]\n",
    "    \n",
    "    print(f\"Total number of universities in {city}: {len(df)}\")\n",
    "    \n",
    "    # Here I use list comprehension that iterates through each value, and for each value it converts each element in the list to a string. \n",
    "    # Finally returns a single string where elements are now seperated by the comma.\n",
    "    df['domains'] = [','.join(map(str, l)) for l in df['domains']]\n",
    "    df['web_pages'] = [','.join(map(str, l)) for l in df['web_pages']]\n",
    "\n",
    "    df = df.reset_index(drop=True)\n",
    "    \n",
    "    # Exported Coloumns\n",
    "    return df[['domains','country','web_pages','name']]\n"
   ]
  },
  {
   "cell_type": "markdown",
   "id": "347758da-fc64-44ca-ad20-cb6ce8ac6211",
   "metadata": {},
   "source": [
    "## load data"
   ]
  },
  {
   "cell_type": "code",
   "execution_count": 125,
   "id": "4d1c2299-ef63-416e-b0b1-bd4f5595353a",
   "metadata": {},
   "outputs": [],
   "source": [
    "def load(df)-> None:\n",
    "    # Loads data into a sqlite database\n",
    "    disk_engine = create_engine('sqlite:///universities.db')\n",
    "    df.to_sql('uni_table', disk_engine, if_exists='replace')"
   ]
  },
  {
   "cell_type": "markdown",
   "id": "3b368505-83f7-4a01-8a35-8d9f94ab6585",
   "metadata": {},
   "source": [
    "## calling functions"
   ]
  },
  {
   "cell_type": "code",
   "execution_count": 126,
   "id": "a768aa21-1a4f-45b7-a9de-751e397570a4",
   "metadata": {},
   "outputs": [
    {
     "name": "stdout",
     "output_type": "stream",
     "text": [
      "Total number of universities in United States: 4535\n",
      "Total number of universities in California: 84\n"
     ]
    },
    {
     "data": {
      "text/html": [
       "<div>\n",
       "<style scoped>\n",
       "    .dataframe tbody tr th:only-of-type {\n",
       "        vertical-align: middle;\n",
       "    }\n",
       "\n",
       "    .dataframe tbody tr th {\n",
       "        vertical-align: top;\n",
       "    }\n",
       "\n",
       "    .dataframe thead th {\n",
       "        text-align: right;\n",
       "    }\n",
       "</style>\n",
       "<table border=\"1\" class=\"dataframe\">\n",
       "  <thead>\n",
       "    <tr style=\"text-align: right;\">\n",
       "      <th></th>\n",
       "      <th>domains</th>\n",
       "      <th>country</th>\n",
       "      <th>web_pages</th>\n",
       "      <th>name</th>\n",
       "    </tr>\n",
       "  </thead>\n",
       "  <tbody>\n",
       "    <tr>\n",
       "      <th>0</th>\n",
       "      <td>csuci.edu</td>\n",
       "      <td>United States</td>\n",
       "      <td>https://www.csuci.edu/</td>\n",
       "      <td>California State University Channel Islands</td>\n",
       "    </tr>\n",
       "    <tr>\n",
       "      <th>1</th>\n",
       "      <td>calbaptist.edu</td>\n",
       "      <td>United States</td>\n",
       "      <td>http://www.calbaptist.edu/</td>\n",
       "      <td>California Baptist University</td>\n",
       "    </tr>\n",
       "    <tr>\n",
       "      <th>2</th>\n",
       "      <td>calsouthern.edu</td>\n",
       "      <td>United States</td>\n",
       "      <td>http://www.calsouthern.edu/</td>\n",
       "      <td>California Southern University</td>\n",
       "    </tr>\n",
       "    <tr>\n",
       "      <th>3</th>\n",
       "      <td>cpp.edu</td>\n",
       "      <td>United States</td>\n",
       "      <td>http://www.cpp.edu/</td>\n",
       "      <td>California Polytechnic State University, Pomona</td>\n",
       "    </tr>\n",
       "    <tr>\n",
       "      <th>4</th>\n",
       "      <td>calcoast.edu</td>\n",
       "      <td>United States</td>\n",
       "      <td>http://www.calcoast.edu/</td>\n",
       "      <td>California Coast University</td>\n",
       "    </tr>\n",
       "    <tr>\n",
       "      <th>...</th>\n",
       "      <td>...</td>\n",
       "      <td>...</td>\n",
       "      <td>...</td>\n",
       "      <td>...</td>\n",
       "    </tr>\n",
       "    <tr>\n",
       "      <th>79</th>\n",
       "      <td>ucsb.edu</td>\n",
       "      <td>United States</td>\n",
       "      <td>http://www.ucsb.edu/</td>\n",
       "      <td>University of California, Santa Barbara</td>\n",
       "    </tr>\n",
       "    <tr>\n",
       "      <th>80</th>\n",
       "      <td>ucsc.edu</td>\n",
       "      <td>United States</td>\n",
       "      <td>http://www.ucsc.edu/</td>\n",
       "      <td>University of California, Santa Cruz</td>\n",
       "    </tr>\n",
       "    <tr>\n",
       "      <th>81</th>\n",
       "      <td>usc.edu</td>\n",
       "      <td>United States</td>\n",
       "      <td>http://www.usc.edu/</td>\n",
       "      <td>University of Southern California</td>\n",
       "    </tr>\n",
       "    <tr>\n",
       "      <th>82</th>\n",
       "      <td>carrington.edu</td>\n",
       "      <td>United States</td>\n",
       "      <td>http://www.carrington.edu</td>\n",
       "      <td>Carrington College California-​Sacramento</td>\n",
       "    </tr>\n",
       "    <tr>\n",
       "      <th>83</th>\n",
       "      <td>calarts.edu</td>\n",
       "      <td>United States</td>\n",
       "      <td>https://calarts.edu/</td>\n",
       "      <td>California Institute of the Arts</td>\n",
       "    </tr>\n",
       "  </tbody>\n",
       "</table>\n",
       "<p>84 rows × 4 columns</p>\n",
       "</div>"
      ],
      "text/plain": [
       "            domains        country                    web_pages  \\\n",
       "0         csuci.edu  United States       https://www.csuci.edu/   \n",
       "1    calbaptist.edu  United States   http://www.calbaptist.edu/   \n",
       "2   calsouthern.edu  United States  http://www.calsouthern.edu/   \n",
       "3           cpp.edu  United States          http://www.cpp.edu/   \n",
       "4      calcoast.edu  United States     http://www.calcoast.edu/   \n",
       "..              ...            ...                          ...   \n",
       "79         ucsb.edu  United States         http://www.ucsb.edu/   \n",
       "80         ucsc.edu  United States         http://www.ucsc.edu/   \n",
       "81          usc.edu  United States          http://www.usc.edu/   \n",
       "82   carrington.edu  United States    http://www.carrington.edu   \n",
       "83      calarts.edu  United States         https://calarts.edu/   \n",
       "\n",
       "                                               name  \n",
       "0       California State University Channel Islands  \n",
       "1                     California Baptist University  \n",
       "2                    California Southern University  \n",
       "3   California Polytechnic State University, Pomona  \n",
       "4                       California Coast University  \n",
       "..                                              ...  \n",
       "79          University of California, Santa Barbara  \n",
       "80             University of California, Santa Cruz  \n",
       "81                University of Southern California  \n",
       "82        Carrington College California-​Sacramento  \n",
       "83                 California Institute of the Arts  \n",
       "\n",
       "[84 rows x 4 columns]"
      ]
     },
     "execution_count": 126,
     "metadata": {},
     "output_type": "execute_result"
    }
   ],
   "source": [
    "ext_data = extract() # optional - Enter Country as arg to search\n",
    "dataframe = transform(ext_data) # optional - Enter City as second arg to search\n",
    "load(dataframe)\n",
    "dataframe"
   ]
  },
  {
   "cell_type": "code",
   "execution_count": null,
   "id": "d020197a-63f0-417b-9d0d-6cb4d4bda1ab",
   "metadata": {},
   "outputs": [],
   "source": []
  }
 ],
 "metadata": {
  "kernelspec": {
   "display_name": "Python 3 (ipykernel)",
   "language": "python",
   "name": "python3"
  },
  "language_info": {
   "codemirror_mode": {
    "name": "ipython",
    "version": 3
   },
   "file_extension": ".py",
   "mimetype": "text/x-python",
   "name": "python",
   "nbconvert_exporter": "python",
   "pygments_lexer": "ipython3",
   "version": "3.11.4"
  }
 },
 "nbformat": 4,
 "nbformat_minor": 5
}
